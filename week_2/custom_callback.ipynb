{
  "nbformat": 4,
  "nbformat_minor": 0,
  "metadata": {
    "colab": {
      "name": "Exercise2-Question-mnist.ipynb",
      "version": "0.3.2",
      "provenance": [],
      "collapsed_sections": [],
      "include_colab_link": true
    },
    "kernelspec": {
      "name": "python3",
      "display_name": "Python 3"
    }
  },
  "cells": [
    {
      "cell_type": "markdown",
      "metadata": {
        "id": "view-in-github",
        "colab_type": "text"
      },
      "source": [
        "<a href=\"https://colab.research.google.com/github/grommy/Introduction-to-TensorFlow/blob/master/week_2/custom_callback.ipynb\" target=\"_parent\"><img src=\"https://colab.research.google.com/assets/colab-badge.svg\" alt=\"Open In Colab\"/></a>"
      ]
    },
    {
      "cell_type": "markdown",
      "metadata": {
        "id": "tOoyQ70H00_s",
        "colab_type": "text"
      },
      "source": [
        "## Exercise 2\n",
        "In the course you learned how to do classification using Fashion MNIST, a data set containing items of clothing. There's another, similar dataset called MNIST which has items of handwriting -- the digits 0 through 9.\n",
        "\n",
        "Write an MNIST classifier that trains to 99% accuracy or above, and does it without a fixed number of epochs -- i.e. you should stop training once you reach that level of accuracy.\n",
        "\n",
        "Some notes:\n",
        "1. It should succeed in less than 10 epochs, so it is okay to change epochs to 10, but nothing larger\n",
        "2. When it reaches 99% or greater it should print out the string \"Reached 99% accuracy so cancelling training!\"\n",
        "3. If you add any additional variables, make sure you use the same names as the ones used in the class\n",
        "\n",
        "I've started the code for you below -- how would you finish it? "
      ]
    },
    {
      "cell_type": "code",
      "metadata": {
        "id": "9rvXQGAA0ssC",
        "colab_type": "code",
        "colab": {
          "base_uri": "https://localhost:8080/",
          "height": 323
        },
        "outputId": "97a8b21e-33fc-4065-d099-73c8ee8216f9"
      },
      "source": [
        "import tensorflow as tf\n",
        "mnist = tf.keras.datasets.mnist\n",
        "\n",
        "# YOUR CODE SHOULD START HERE\n",
        "class TerminateOnBaseline(tf.keras.callbacks.Callback):\n",
        "    \"\"\"Callback that terminates training when either acc or val_acc reaches a specified baseline\n",
        "    \"\"\"\n",
        "    def __init__(self, monitor='acc', baseline=0.99):\n",
        "        super(TerminateOnBaseline, self).__init__()\n",
        "        self.monitor = monitor\n",
        "        self.baseline = baseline\n",
        "\n",
        "    def on_epoch_end(self, epoch, logs={}):\n",
        "      acc = logs.get(self.monitor)\n",
        "      if(acc >= self.baseline):\n",
        "        print(\"\\nReached 99% accuracy so cancelling training!\")\n",
        "        self.model.stop_training = True\n",
        "\n",
        "my_callback = TerminateOnBaseline(monitor='acc', baseline=0.99)\n",
        "# YOUR CODE SHOULD END HERE\n",
        "\n",
        "\n",
        "\n",
        "(x_train, y_train),(x_test, y_test) = mnist.load_data()\n",
        "# YOUR CODE SHOULD START HERE\n",
        "x_train = x_train / 255.0\n",
        "x_test = x_test / 255.0\n",
        "# YOUR CODE SHOULD END HERE\n",
        "\n",
        "model = tf.keras.models.Sequential([\n",
        "# YOUR CODE SHOULD START HERE\n",
        "    tf.keras.layers.Flatten(),\n",
        "    tf.keras.layers.Dense(128, activation=tf.nn.relu),\n",
        "    tf.keras.layers.Dense(32, activation=tf.nn.relu),\n",
        "    tf.keras.layers.Dense(10, activation=tf.nn.softmax)\n",
        "# YOUR CODE SHOULD END HERE\n",
        "])\n",
        "\n",
        "model.compile(optimizer='adam',\n",
        "              loss='sparse_categorical_crossentropy',\n",
        "              metrics=['accuracy'])\n",
        "\n",
        "# YOUR CODE SHOULD START HERE\n",
        "model.fit(x_train, y_train, epochs=10, callbacks=[my_callback])\n",
        "model.evaluate(x_test, y_test)\n",
        "# YOUR CODE SHOULD END HERE"
      ],
      "execution_count": 3,
      "outputs": [
        {
          "output_type": "stream",
          "text": [
            "Epoch 1/10\n",
            "60000/60000 [==============================] - 4s 70us/sample - loss: 0.2578 - acc: 0.9245\n",
            "Epoch 2/10\n",
            "60000/60000 [==============================] - 4s 66us/sample - loss: 0.1100 - acc: 0.9672\n",
            "Epoch 3/10\n",
            "60000/60000 [==============================] - 4s 65us/sample - loss: 0.0761 - acc: 0.9774\n",
            "Epoch 4/10\n",
            "60000/60000 [==============================] - 4s 68us/sample - loss: 0.0570 - acc: 0.9822\n",
            "Epoch 5/10\n",
            "60000/60000 [==============================] - 4s 67us/sample - loss: 0.0448 - acc: 0.9854\n",
            "Epoch 6/10\n",
            "60000/60000 [==============================] - 4s 67us/sample - loss: 0.0366 - acc: 0.9880\n",
            "Epoch 7/10\n",
            "59488/60000 [============================>.] - ETA: 0s - loss: 0.0304 - acc: 0.9902\n",
            "Reached 99% accuracy so cancelling training!\n",
            "60000/60000 [==============================] - 4s 67us/sample - loss: 0.0303 - acc: 0.9902\n",
            "10000/10000 [==============================] - 0s 36us/sample - loss: 0.0814 - acc: 0.9771\n"
          ],
          "name": "stdout"
        },
        {
          "output_type": "execute_result",
          "data": {
            "text/plain": [
              "[0.08139569229537155, 0.9771]"
            ]
          },
          "metadata": {
            "tags": []
          },
          "execution_count": 3
        }
      ]
    },
    {
      "cell_type": "code",
      "metadata": {
        "id": "nDNiHcwdWPdX",
        "colab_type": "code",
        "colab": {}
      },
      "source": [
        ""
      ],
      "execution_count": 0,
      "outputs": []
    },
    {
      "cell_type": "code",
      "metadata": {
        "id": "Tb8oLwZ9KYl2",
        "colab_type": "code",
        "colab": {}
      },
      "source": [
        ""
      ],
      "execution_count": 0,
      "outputs": []
    }
  ]
}